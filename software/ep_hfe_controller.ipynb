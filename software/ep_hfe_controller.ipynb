{
 "cells": [
  {
   "cell_type": "markdown",
   "id": "9cc1154a",
   "metadata": {},
   "source": [
    "# Serial Connection"
   ]
  },
  {
   "cell_type": "code",
   "execution_count": 2,
   "id": "4c53545a",
   "metadata": {},
   "outputs": [],
   "source": [
    ":dep serialport\n",
    ":dep corncobs"
   ]
  },
  {
   "cell_type": "code",
   "execution_count": 3,
   "id": "39400c5f",
   "metadata": {},
   "outputs": [],
   "source": [
    "use serialport::{available_ports, SerialPortType};\n",
    "use std::io::{self, Write};\n",
    "use serialport::SerialPort;\n",
    "use std::time::Duration;"
   ]
  },
  {
   "cell_type": "markdown",
   "id": "cfda04f3",
   "metadata": {},
   "source": [
    "# Open Serial Port"
   ]
  },
  {
   "cell_type": "code",
   "execution_count": 4,
   "id": "a954b1e2",
   "metadata": {},
   "outputs": [
    {
     "name": "stdout",
     "output_type": "stream",
     "text": [
      "COM3\n"
     ]
    },
    {
     "data": {
      "text/plain": [
       "()"
      ]
     },
     "execution_count": 4,
     "metadata": {},
     "output_type": "execute_result"
    }
   ],
   "source": [
    "let ports = serialport::available_ports().expect(\"No ports found!\");\n",
    "for p in ports {\n",
    "    println!(\"{}\", p.port_name);\n",
    "}\n"
   ]
  },
  {
   "cell_type": "code",
   "execution_count": 5,
   "id": "e1ba74c4",
   "metadata": {},
   "outputs": [],
   "source": [
    "let mut port = serialport::new(\"COM3\", 115_200).timeout(Duration::from_millis(10))    \n",
    "    .open().expect(\"Failed to open port\");"
   ]
  },
  {
   "cell_type": "markdown",
   "id": "1fd644e7",
   "metadata": {},
   "source": [
    "# Cmd"
   ]
  },
  {
   "cell_type": "markdown",
   "id": "4a29aede",
   "metadata": {},
   "source": [
    "## read firmware version"
   ]
  },
  {
   "cell_type": "code",
   "execution_count": 6,
   "id": "0db141d8",
   "metadata": {},
   "outputs": [
    {
     "data": {
      "text/plain": [
       "Ok(3)"
      ]
     },
     "execution_count": 6,
     "metadata": {},
     "output_type": "execute_result"
    }
   ],
   "source": [
    "port.write(&[2,21,0])"
   ]
  },
  {
   "cell_type": "code",
   "execution_count": 7,
   "id": "ebd0e1c0",
   "metadata": {},
   "outputs": [
    {
     "data": {
      "text/plain": [
       "5"
      ]
     },
     "execution_count": 7,
     "metadata": {},
     "output_type": "execute_result"
    }
   ],
   "source": [
    "let rx_bytes = port.bytes_to_read()?;\n",
    "rx_bytes"
   ]
  },
  {
   "cell_type": "code",
   "execution_count": 8,
   "id": "5b198ce7",
   "metadata": {},
   "outputs": [
    {
     "name": "stdout",
     "output_type": "stream",
     "text": [
      "[1, 0, 0]\n"
     ]
    },
    {
     "data": {
      "text/plain": [
       "()"
      ]
     },
     "execution_count": 8,
     "metadata": {},
     "output_type": "execute_result"
    }
   ],
   "source": [
    "let mut buf: [u8; 200] = [0; 200];\n",
    "if rx_bytes > 0 {\n",
    "    port.read(&mut buf[0..rx_bytes as usize])?;\n",
    "    let mut output  = [0u8;400];\n",
    "    let k = corncobs::decode_buf(&buf, &mut output).unwrap();\n",
    "    println!(\"{:?}\",output[0..k].to_vec());\n",
    "}"
   ]
  },
  {
   "cell_type": "markdown",
   "id": "7622f0fe",
   "metadata": {},
   "source": [
    "## run motor"
   ]
  },
  {
   "cell_type": "code",
   "execution_count": 12,
   "id": "3e587bdc",
   "metadata": {},
   "outputs": [
    {
     "data": {
      "text/plain": [
       "Ok(4)"
      ]
     },
     "execution_count": 12,
     "metadata": {},
     "output_type": "execute_result"
    }
   ],
   "source": [
    "port.write(&[1,2,5,0])"
   ]
  },
  {
   "cell_type": "code",
   "execution_count": 13,
   "id": "99d6d489",
   "metadata": {},
   "outputs": [
    {
     "data": {
      "text/plain": [
       "Ok(4)"
      ]
     },
     "execution_count": 13,
     "metadata": {},
     "output_type": "execute_result"
    }
   ],
   "source": [
    "port.write(&[1,2,1,0])"
   ]
  },
  {
   "cell_type": "code",
   "execution_count": null,
   "id": "7e257731",
   "metadata": {},
   "outputs": [],
   "source": []
  }
 ],
 "metadata": {
  "kernelspec": {
   "display_name": "Rust",
   "language": "rust",
   "name": "rust"
  },
  "language_info": {
   "codemirror_mode": "rust",
   "file_extension": ".rs",
   "mimetype": "text/rust",
   "name": "Rust",
   "pygment_lexer": "rust",
   "version": ""
  },
  "toc": {
   "base_numbering": 1,
   "nav_menu": {},
   "number_sections": true,
   "sideBar": true,
   "skip_h1_title": false,
   "title_cell": "Table of Contents",
   "title_sidebar": "Contents",
   "toc_cell": false,
   "toc_position": {},
   "toc_section_display": true,
   "toc_window_display": false
  }
 },
 "nbformat": 4,
 "nbformat_minor": 5
}
